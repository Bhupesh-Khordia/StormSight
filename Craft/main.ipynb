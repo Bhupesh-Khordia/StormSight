{
 "cells": [
  {
   "cell_type": "code",
   "execution_count": null,
   "id": "d79e0acb",
   "metadata": {},
   "outputs": [
    {
     "name": "stdout",
     "output_type": "stream",
     "text": [
      "d:\\Important Documents\\IIT Mandi Academics\\4th Sem\\IC 201P DP\\Craft\\CRAFT-pytorch\n"
     ]
    },
    {
     "name": "stderr",
     "output_type": "stream",
     "text": [
      "Cloning into 'CRAFT-pytorch'...\n",
      "C:\\Users\\Bhupesh Yadav\\AppData\\Roaming\\Python\\Python311\\site-packages\\IPython\\core\\magics\\osm.py:417: UserWarning: This is now an optional IPython functionality, setting dhist requires you to install the `pickleshare` library.\n",
      "  self.shell.db['dhist'] = compress_dhist(dhist)[-100:]\n"
     ]
    }
   ],
   "source": [
    "!git clone https://github.com/clovaai/CRAFT-pytorch.git\n",
    "%cd CRAFT-pytorch"
   ]
  },
  {
   "cell_type": "code",
   "execution_count": 5,
   "id": "50ece446",
   "metadata": {},
   "outputs": [],
   "source": [
    "!python -m venv venv\n",
    "!venv\\Scripts\\activate"
   ]
  },
  {
   "cell_type": "code",
   "execution_count": 6,
   "id": "51fd4d8b",
   "metadata": {},
   "outputs": [
    {
     "name": "stdout",
     "output_type": "stream",
     "text": [
      "Requirement already satisfied: torch in c:\\users\\bhupesh yadav\\appdata\\local\\programs\\python\\python311\\lib\\site-packages (2.6.0)\n",
      "Requirement already satisfied: torchvision in c:\\users\\bhupesh yadav\\appdata\\local\\programs\\python\\python311\\lib\\site-packages (0.21.0)\n",
      "Collecting opencv-python-headless\n",
      "  Downloading opencv_python_headless-4.11.0.86-cp37-abi3-win_amd64.whl.metadata (20 kB)\n",
      "Requirement already satisfied: matplotlib in c:\\users\\bhupesh yadav\\appdata\\local\\programs\\python\\python311\\lib\\site-packages (3.8.0)\n",
      "Requirement already satisfied: scikit-image in c:\\users\\bhupesh yadav\\appdata\\local\\programs\\python\\python311\\lib\\site-packages (0.25.2)\n",
      "Collecting gdown\n",
      "  Downloading gdown-5.2.0-py3-none-any.whl.metadata (5.8 kB)\n",
      "Requirement already satisfied: filelock in c:\\users\\bhupesh yadav\\appdata\\local\\programs\\python\\python311\\lib\\site-packages (from torch) (3.16.1)\n",
      "Requirement already satisfied: typing-extensions>=4.10.0 in c:\\users\\bhupesh yadav\\appdata\\roaming\\python\\python311\\site-packages (from torch) (4.12.2)\n",
      "Requirement already satisfied: networkx in c:\\users\\bhupesh yadav\\appdata\\local\\programs\\python\\python311\\lib\\site-packages (from torch) (3.4.2)\n",
      "Requirement already satisfied: jinja2 in c:\\users\\bhupesh yadav\\appdata\\local\\programs\\python\\python311\\lib\\site-packages (from torch) (3.1.4)\n",
      "Requirement already satisfied: fsspec in c:\\users\\bhupesh yadav\\appdata\\local\\programs\\python\\python311\\lib\\site-packages (from torch) (2024.9.0)\n",
      "Requirement already satisfied: sympy==1.13.1 in c:\\users\\bhupesh yadav\\appdata\\local\\programs\\python\\python311\\lib\\site-packages (from torch) (1.13.1)\n",
      "Requirement already satisfied: mpmath<1.4,>=1.1.0 in c:\\users\\bhupesh yadav\\appdata\\local\\programs\\python\\python311\\lib\\site-packages (from sympy==1.13.1->torch) (1.3.0)\n",
      "Requirement already satisfied: numpy in c:\\users\\bhupesh yadav\\appdata\\local\\programs\\python\\python311\\lib\\site-packages (from torchvision) (1.26.4)\n",
      "Requirement already satisfied: pillow!=8.3.*,>=5.3.0 in c:\\users\\bhupesh yadav\\appdata\\local\\programs\\python\\python311\\lib\\site-packages (from torchvision) (11.1.0)\n",
      "Requirement already satisfied: contourpy>=1.0.1 in c:\\users\\bhupesh yadav\\appdata\\local\\programs\\python\\python311\\lib\\site-packages (from matplotlib) (1.1.1)\n",
      "Requirement already satisfied: cycler>=0.10 in c:\\users\\bhupesh yadav\\appdata\\local\\programs\\python\\python311\\lib\\site-packages (from matplotlib) (0.11.0)\n",
      "Requirement already satisfied: fonttools>=4.22.0 in c:\\users\\bhupesh yadav\\appdata\\local\\programs\\python\\python311\\lib\\site-packages (from matplotlib) (4.42.1)\n",
      "Requirement already satisfied: kiwisolver>=1.0.1 in c:\\users\\bhupesh yadav\\appdata\\local\\programs\\python\\python311\\lib\\site-packages (from matplotlib) (1.4.5)\n",
      "Requirement already satisfied: packaging>=20.0 in c:\\users\\bhupesh yadav\\appdata\\local\\programs\\python\\python311\\lib\\site-packages (from matplotlib) (24.2)\n",
      "Requirement already satisfied: pyparsing>=2.3.1 in c:\\users\\bhupesh yadav\\appdata\\local\\programs\\python\\python311\\lib\\site-packages (from matplotlib) (3.1.1)\n",
      "Requirement already satisfied: python-dateutil>=2.7 in c:\\users\\bhupesh yadav\\appdata\\local\\programs\\python\\python311\\lib\\site-packages (from matplotlib) (2.8.2)\n",
      "Requirement already satisfied: scipy>=1.11.4 in c:\\users\\bhupesh yadav\\appdata\\local\\programs\\python\\python311\\lib\\site-packages (from scikit-image) (1.12.0)\n",
      "Requirement already satisfied: imageio!=2.35.0,>=2.33 in c:\\users\\bhupesh yadav\\appdata\\local\\programs\\python\\python311\\lib\\site-packages (from scikit-image) (2.37.0)\n",
      "Requirement already satisfied: tifffile>=2022.8.12 in c:\\users\\bhupesh yadav\\appdata\\local\\programs\\python\\python311\\lib\\site-packages (from scikit-image) (2025.3.13)\n",
      "Requirement already satisfied: lazy-loader>=0.4 in c:\\users\\bhupesh yadav\\appdata\\local\\programs\\python\\python311\\lib\\site-packages (from scikit-image) (0.4)\n",
      "Requirement already satisfied: beautifulsoup4 in c:\\users\\bhupesh yadav\\appdata\\local\\programs\\python\\python311\\lib\\site-packages (from gdown) (4.13.3)\n",
      "Requirement already satisfied: requests[socks] in c:\\users\\bhupesh yadav\\appdata\\local\\programs\\python\\python311\\lib\\site-packages (from gdown) (2.32.3)\n",
      "Requirement already satisfied: tqdm in c:\\users\\bhupesh yadav\\appdata\\local\\programs\\python\\python311\\lib\\site-packages (from gdown) (4.67.0)\n",
      "Requirement already satisfied: six>=1.5 in c:\\users\\bhupesh yadav\\appdata\\local\\programs\\python\\python311\\lib\\site-packages (from python-dateutil>=2.7->matplotlib) (1.16.0)\n",
      "Requirement already satisfied: soupsieve>1.2 in c:\\users\\bhupesh yadav\\appdata\\local\\programs\\python\\python311\\lib\\site-packages (from beautifulsoup4->gdown) (2.6)\n",
      "Requirement already satisfied: MarkupSafe>=2.0 in c:\\users\\bhupesh yadav\\appdata\\local\\programs\\python\\python311\\lib\\site-packages (from jinja2->torch) (3.0.2)\n",
      "Requirement already satisfied: charset-normalizer<4,>=2 in c:\\users\\bhupesh yadav\\appdata\\local\\programs\\python\\python311\\lib\\site-packages (from requests[socks]->gdown) (3.3.2)\n",
      "Requirement already satisfied: idna<4,>=2.5 in c:\\users\\bhupesh yadav\\appdata\\local\\programs\\python\\python311\\lib\\site-packages (from requests[socks]->gdown) (3.4)\n",
      "Requirement already satisfied: urllib3<3,>=1.21.1 in c:\\users\\bhupesh yadav\\appdata\\local\\programs\\python\\python311\\lib\\site-packages (from requests[socks]->gdown) (2.0.7)\n",
      "Requirement already satisfied: certifi>=2017.4.17 in c:\\users\\bhupesh yadav\\appdata\\local\\programs\\python\\python311\\lib\\site-packages (from requests[socks]->gdown) (2023.7.22)\n",
      "Collecting PySocks!=1.5.7,>=1.5.6 (from requests[socks]->gdown)\n",
      "  Downloading PySocks-1.7.1-py3-none-any.whl.metadata (13 kB)\n",
      "Requirement already satisfied: colorama in c:\\users\\bhupesh yadav\\appdata\\local\\programs\\python\\python311\\lib\\site-packages (from tqdm->gdown) (0.4.6)\n",
      "Downloading opencv_python_headless-4.11.0.86-cp37-abi3-win_amd64.whl (39.4 MB)\n",
      "   ---------------------------------------- 0.0/39.4 MB ? eta -:--:--\n",
      "    --------------------------------------- 0.8/39.4 MB 5.6 MB/s eta 0:00:07\n",
      "   - -------------------------------------- 1.8/39.4 MB 5.0 MB/s eta 0:00:08\n",
      "   --- ------------------------------------ 3.1/39.4 MB 5.1 MB/s eta 0:00:08\n",
      "   ---- ----------------------------------- 4.2/39.4 MB 5.1 MB/s eta 0:00:07\n",
      "   ----- ---------------------------------- 5.2/39.4 MB 5.1 MB/s eta 0:00:07\n",
      "   ------ --------------------------------- 6.0/39.4 MB 4.9 MB/s eta 0:00:07\n",
      "   ------- -------------------------------- 7.1/39.4 MB 4.9 MB/s eta 0:00:07\n",
      "   ------- -------------------------------- 7.9/39.4 MB 4.9 MB/s eta 0:00:07\n",
      "   --------- ------------------------------ 9.2/39.4 MB 5.0 MB/s eta 0:00:07\n",
      "   ---------- ----------------------------- 10.2/39.4 MB 5.0 MB/s eta 0:00:06\n",
      "   ----------- ---------------------------- 11.3/39.4 MB 5.0 MB/s eta 0:00:06\n",
      "   ------------ --------------------------- 12.6/39.4 MB 5.1 MB/s eta 0:00:06\n",
      "   ------------- -------------------------- 13.6/39.4 MB 5.1 MB/s eta 0:00:06\n",
      "   -------------- ------------------------- 14.7/39.4 MB 5.1 MB/s eta 0:00:05\n",
      "   --------------- ------------------------ 15.7/39.4 MB 5.1 MB/s eta 0:00:05\n",
      "   ----------------- ---------------------- 16.8/39.4 MB 5.1 MB/s eta 0:00:05\n",
      "   ------------------ --------------------- 17.8/39.4 MB 5.1 MB/s eta 0:00:05\n",
      "   ------------------- -------------------- 19.1/39.4 MB 5.1 MB/s eta 0:00:04\n",
      "   -------------------- ------------------- 20.2/39.4 MB 5.1 MB/s eta 0:00:04\n",
      "   --------------------- ------------------ 21.2/39.4 MB 5.2 MB/s eta 0:00:04\n",
      "   ---------------------- ----------------- 22.5/39.4 MB 5.2 MB/s eta 0:00:04\n",
      "   ----------------------- ---------------- 23.6/39.4 MB 5.2 MB/s eta 0:00:04\n",
      "   ------------------------- -------------- 24.9/39.4 MB 5.2 MB/s eta 0:00:03\n",
      "   -------------------------- ------------- 26.0/39.4 MB 5.2 MB/s eta 0:00:03\n",
      "   --------------------------- ------------ 26.7/39.4 MB 5.2 MB/s eta 0:00:03\n",
      "   ---------------------------- ----------- 27.8/39.4 MB 5.2 MB/s eta 0:00:03\n",
      "   ----------------------------- ---------- 28.8/39.4 MB 5.2 MB/s eta 0:00:03\n",
      "   ------------------------------ --------- 29.9/39.4 MB 5.2 MB/s eta 0:00:02\n",
      "   ------------------------------- -------- 30.9/39.4 MB 5.2 MB/s eta 0:00:02\n",
      "   -------------------------------- ------- 32.0/39.4 MB 5.2 MB/s eta 0:00:02\n",
      "   --------------------------------- ------ 33.0/39.4 MB 5.2 MB/s eta 0:00:02\n",
      "   ---------------------------------- ----- 34.3/39.4 MB 5.2 MB/s eta 0:00:01\n",
      "   ----------------------------------- ---- 35.4/39.4 MB 5.2 MB/s eta 0:00:01\n",
      "   ------------------------------------- -- 36.7/39.4 MB 5.2 MB/s eta 0:00:01\n",
      "   -------------------------------------- - 37.7/39.4 MB 5.2 MB/s eta 0:00:01\n",
      "   ---------------------------------------  38.8/39.4 MB 5.2 MB/s eta 0:00:01\n",
      "   ---------------------------------------- 39.4/39.4 MB 5.2 MB/s eta 0:00:00\n",
      "Downloading gdown-5.2.0-py3-none-any.whl (18 kB)\n",
      "Downloading PySocks-1.7.1-py3-none-any.whl (16 kB)\n",
      "Installing collected packages: PySocks, opencv-python-headless, gdown\n",
      "Successfully installed PySocks-1.7.1 gdown-5.2.0 opencv-python-headless-4.11.0.86\n"
     ]
    },
    {
     "name": "stderr",
     "output_type": "stream",
     "text": [
      "\n",
      "[notice] A new release of pip is available: 25.0 -> 25.0.1\n",
      "[notice] To update, run: python.exe -m pip install --upgrade pip\n"
     ]
    }
   ],
   "source": [
    "!pip install torch torchvision opencv-python-headless matplotlib scikit-image gdown\n"
   ]
  },
  {
   "cell_type": "code",
   "execution_count": null,
   "id": "80ab727e",
   "metadata": {},
   "outputs": [],
   "source": [
    "# Model download krke CRAFT-pytorch folder me rakhna hoga"
   ]
  },
  {
   "cell_type": "code",
   "execution_count": null,
   "id": "781b1c42",
   "metadata": {},
   "outputs": [
    {
     "name": "stderr",
     "output_type": "stream",
     "text": [
      "A subdirectory or file test_images already exists.\n",
      "'wget' is not recognized as an internal or external command,\n",
      "operable program or batch file.\n"
     ]
    }
   ],
   "source": [
    "!mkdir test_images\n",
    "# Test image folder me images daal do\n"
   ]
  },
  {
   "cell_type": "code",
   "execution_count": 19,
   "id": "6e9f0c9d",
   "metadata": {},
   "outputs": [
    {
     "name": "stdout",
     "output_type": "stream",
     "text": [
      "Loading weights from checkpoint (craft_mlt_25k.pth)\n",
      "Test image 1/1: ./test_images\\Screenshot 2025-04-01 104815.png\n",
      "elapsed time : 0.42722129821777344s\n"
     ]
    },
    {
     "name": "stderr",
     "output_type": "stream",
     "text": [
      "c:\\Users\\Bhupesh Yadav\\AppData\\Local\\Programs\\Python\\Python311\\Lib\\site-packages\\torchvision\\models\\_utils.py:208: UserWarning: The parameter 'pretrained' is deprecated since 0.13 and may be removed in the future, please use 'weights' instead.\n",
      "  warnings.warn(\n",
      "c:\\Users\\Bhupesh Yadav\\AppData\\Local\\Programs\\Python\\Python311\\Lib\\site-packages\\torchvision\\models\\_utils.py:223: UserWarning: Arguments other than a weight enum or `None` for 'weights' are deprecated since 0.13 and may be removed in the future. The current behavior is equivalent to passing `weights=None`.\n",
      "  warnings.warn(msg)\n"
     ]
    }
   ],
   "source": [
    "!python test.py --trained_model=craft_mlt_25k.pth --test_folder=./test_images\n"
   ]
  }
 ],
 "metadata": {
  "kernelspec": {
   "display_name": "Python 3",
   "language": "python",
   "name": "python3"
  },
  "language_info": {
   "codemirror_mode": {
    "name": "ipython",
    "version": 3
   },
   "file_extension": ".py",
   "mimetype": "text/x-python",
   "name": "python",
   "nbconvert_exporter": "python",
   "pygments_lexer": "ipython3",
   "version": "3.11.4"
  }
 },
 "nbformat": 4,
 "nbformat_minor": 5
}
