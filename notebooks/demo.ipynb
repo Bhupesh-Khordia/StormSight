{
 "cells": [
  {
   "cell_type": "code",
   "execution_count": 1,
   "id": "ee445b98",
   "metadata": {},
   "outputs": [
    {
     "name": "stdout",
     "output_type": "stream",
     "text": [
      "e:\\StormSight\n"
     ]
    },
    {
     "name": "stderr",
     "output_type": "stream",
     "text": [
      "c:\\Users\\Hp\\AppData\\Local\\Programs\\Python\\Python311\\Lib\\site-packages\\IPython\\core\\magics\\osm.py:417: UserWarning: using dhist requires you to install the `pickleshare` library.\n",
      "  self.shell.db['dhist'] = compress_dhist(dhist)[-100:]\n"
     ]
    }
   ],
   "source": [
    "%cd .."
   ]
  },
  {
   "cell_type": "code",
   "execution_count": 2,
   "id": "000b2261",
   "metadata": {},
   "outputs": [
    {
     "name": "stdout",
     "output_type": "stream",
     "text": [
      "Defaulting to user installation because normal site-packages is not writeable\n",
      "Looking in indexes: https://pypi.org/simple, https://download.pytorch.org/whl/cpu\n",
      "Requirement already satisfied: aiohttp==3.9.3 in c:\\users\\hp\\appdata\\roaming\\python\\python39\\site-packages (from -r requirements.txt (line 3)) (3.9.3)\n",
      "Requirement already satisfied: aiosignal==1.3.1 in c:\\users\\hp\\appdata\\roaming\\python\\python39\\site-packages (from -r requirements.txt (line 4)) (1.3.1)\n",
      "Requirement already satisfied: async-timeout==4.0.3 in c:\\users\\hp\\appdata\\roaming\\python\\python39\\site-packages (from -r requirements.txt (line 5)) (4.0.3)\n",
      "Requirement already satisfied: attrs==23.2.0 in c:\\users\\hp\\appdata\\roaming\\python\\python39\\site-packages (from -r requirements.txt (line 6)) (23.2.0)\n",
      "Requirement already satisfied: certifi==2024.2.2 in c:\\users\\hp\\appdata\\roaming\\python\\python39\\site-packages (from -r requirements.txt (line 7)) (2024.2.2)\n",
      "Requirement already satisfied: charset-normalizer==3.3.2 in c:\\users\\hp\\appdata\\roaming\\python\\python39\\site-packages (from -r requirements.txt (line 8)) (3.3.2)\n",
      "Requirement already satisfied: click==8.1.7 in c:\\users\\hp\\appdata\\roaming\\python\\python39\\site-packages (from -r requirements.txt (line 9)) (8.1.7)\n",
      "Requirement already satisfied: filelock==3.13.1 in c:\\users\\hp\\appdata\\roaming\\python\\python39\\site-packages (from -r requirements.txt (line 10)) (3.13.1)\n",
      "Requirement already satisfied: frozenlist==1.4.1 in c:\\users\\hp\\appdata\\roaming\\python\\python39\\site-packages (from -r requirements.txt (line 11)) (1.4.1)\n",
      "Requirement already satisfied: fsspec==2024.2.0 in c:\\users\\hp\\appdata\\roaming\\python\\python39\\site-packages (from -r requirements.txt (line 12)) (2024.2.0)\n",
      "Requirement already satisfied: huggingface-hub==0.20.3 in c:\\users\\hp\\appdata\\roaming\\python\\python39\\site-packages (from -r requirements.txt (line 13)) (0.20.3)\n",
      "Requirement already satisfied: idna==3.6 in c:\\users\\hp\\appdata\\roaming\\python\\python39\\site-packages (from -r requirements.txt (line 14)) (3.6)\n",
      "Requirement already satisfied: jinja2==3.1.3 in c:\\users\\hp\\appdata\\roaming\\python\\python39\\site-packages (from -r requirements.txt (line 15)) (3.1.3)\n",
      "Requirement already satisfied: joblib==1.3.2 in c:\\users\\hp\\appdata\\roaming\\python\\python39\\site-packages (from -r requirements.txt (line 16)) (1.3.2)\n",
      "Requirement already satisfied: lightning-utilities==0.10.1 in c:\\users\\hp\\appdata\\roaming\\python\\python39\\site-packages (from -r requirements.txt (line 17)) (0.10.1)\n",
      "Requirement already satisfied: markupsafe==2.1.5 in c:\\users\\hp\\appdata\\roaming\\python\\python39\\site-packages (from -r requirements.txt (line 18)) (2.1.5)\n",
      "Requirement already satisfied: mpmath==1.3.0 in c:\\users\\hp\\appdata\\roaming\\python\\python39\\site-packages (from -r requirements.txt (line 19)) (1.3.0)\n",
      "Requirement already satisfied: multidict==6.0.5 in c:\\users\\hp\\appdata\\roaming\\python\\python39\\site-packages (from -r requirements.txt (line 20)) (6.0.5)\n",
      "Requirement already satisfied: networkx==3.2.1 in c:\\users\\hp\\appdata\\roaming\\python\\python39\\site-packages (from -r requirements.txt (line 21)) (3.2.1)\n",
      "Requirement already satisfied: nltk==3.8.1 in c:\\users\\hp\\appdata\\roaming\\python\\python39\\site-packages (from -r requirements.txt (line 22)) (3.8.1)\n",
      "Requirement already satisfied: numpy==1.26.4 in c:\\users\\hp\\appdata\\roaming\\python\\python39\\site-packages (from -r requirements.txt (line 23)) (1.26.4)\n",
      "Requirement already satisfied: packaging==23.2 in c:\\users\\hp\\appdata\\roaming\\python\\python39\\site-packages (from -r requirements.txt (line 24)) (23.2)\n",
      "Requirement already satisfied: pillow==10.2.0 in c:\\users\\hp\\appdata\\roaming\\python\\python39\\site-packages (from -r requirements.txt (line 25)) (10.2.0)\n",
      "Requirement already satisfied: pytorch-lightning==2.2.0.post0 in c:\\users\\hp\\appdata\\roaming\\python\\python39\\site-packages (from -r requirements.txt (line 26)) (2.2.0.post0)\n",
      "Requirement already satisfied: pyyaml==6.0.1 in c:\\users\\hp\\appdata\\roaming\\python\\python39\\site-packages (from -r requirements.txt (line 27)) (6.0.1)\n",
      "Requirement already satisfied: regex==2023.12.25 in c:\\users\\hp\\appdata\\roaming\\python\\python39\\site-packages (from -r requirements.txt (line 28)) (2023.12.25)\n",
      "Requirement already satisfied: requests==2.31.0 in c:\\users\\hp\\appdata\\roaming\\python\\python39\\site-packages (from -r requirements.txt (line 29)) (2.31.0)\n",
      "Requirement already satisfied: safetensors==0.4.2 in c:\\users\\hp\\appdata\\roaming\\python\\python39\\site-packages (from -r requirements.txt (line 30)) (0.4.2)\n",
      "Requirement already satisfied: sympy==1.12 in c:\\users\\hp\\appdata\\roaming\\python\\python39\\site-packages (from -r requirements.txt (line 31)) (1.12)\n",
      "Requirement already satisfied: timm==0.9.16 in c:\\users\\hp\\appdata\\roaming\\python\\python39\\site-packages (from -r requirements.txt (line 32)) (0.9.16)\n",
      "Collecting torch==2.2.1+cpu\n",
      "  Downloading https://download.pytorch.org/whl/cpu/torch-2.2.1%2Bcpu-cp39-cp39-win_amd64.whl (200.7 MB)\n",
      "                                              0.1/200.7 MB 6.3 kB/s eta 8:54:23\n"
     ]
    },
    {
     "name": "stderr",
     "output_type": "stream",
     "text": [
      "ERROR: THESE PACKAGES DO NOT MATCH THE HASHES FROM THE REQUIREMENTS FILE. If you have updated the package versions, please update the hashes. Otherwise, examine the package contents carefully; someone may have tampered with them.\n",
      "    torch==2.2.1+cpu from https://download.pytorch.org/whl/cpu/torch-2.2.1%2Bcpu-cp39-cp39-win_amd64.whl#sha256=e03dc4654ecceeb5b03f0a6f60b342c0e0d267b3ebc61e4f672cace1df8cd930 (from -r requirements.txt (line 33)):\n",
      "        Expected sha256 e03dc4654ecceeb5b03f0a6f60b342c0e0d267b3ebc61e4f672cace1df8cd930\n",
      "             Got        5f71fad45bec908c7a0870d741b94d39ec0044134ff5c5fd41ba3cfbcbae9cc3\n",
      "\n",
      "WARNING: You are using pip version 22.0.4; however, version 25.0.1 is available.\n",
      "You should consider upgrading via the 'C:\\Program Files\\Python39\\python.exe -m pip install --upgrade pip' command.\n"
     ]
    }
   ],
   "source": [
    "!pip install -r requirements.txt"
   ]
  },
  {
   "cell_type": "code",
   "execution_count": 2,
   "id": "ae52b04c",
   "metadata": {},
   "outputs": [
    {
     "name": "stdout",
     "output_type": "stream",
     "text": [
      "Directory '/data/input' already exists.\n"
     ]
    }
   ],
   "source": [
    "import os\n",
    "\n",
    "# Create the 'data/input/' directory if it doesn't exist\n",
    "input_dir = '/data/input'\n",
    "if not os.path.exists(input_dir):\n",
    "    os.makedirs(input_dir)\n",
    "    print(f\"Directory '{input_dir}' created.\")\n",
    "else:\n",
    "    print(f\"Directory '{input_dir}' already exists.\")\n"
   ]
  },
  {
   "cell_type": "code",
   "execution_count": null,
   "id": "c3f13783",
   "metadata": {},
   "outputs": [],
   "source": [
    "import shutil\n",
    "import os\n",
    "\n",
    "absolute_path_to_image = r'absolute/path/to/image'\n",
    "\n",
    "if not os.path.exists(absolute_path_to_image):\n",
    "    raise FileNotFoundError(f\"File not found at: {absolute_path_to_image}\")\n",
    "\n",
    "input_dir = 'data/input'\n",
    "\n",
    "if not os.path.exists(input_dir):\n",
    "    os.makedirs(input_dir)\n",
    "\n",
    "destination_path = os.path.join(input_dir, os.path.basename(absolute_path_to_image))\n",
    "\n",
    "if not os.path.exists(destination_path):\n",
    "    shutil.move(absolute_path_to_image, destination_path)\n"
   ]
  },
  {
   "cell_type": "code",
   "execution_count": 14,
   "id": "0aca3bc7",
   "metadata": {},
   "outputs": [],
   "source": [
    "import os\n",
    "\n",
    "craft_model_dir = 'models/detection/craft'\n",
    "nerd_rain_model_dir = 'models/deraining/nerd_rain'\n",
    "\n",
    "os.makedirs(craft_model_dir, exist_ok=True)\n",
    "os.makedirs(nerd_rain_model_dir, exist_ok=True)"
   ]
  },
  {
   "cell_type": "code",
   "execution_count": null,
   "id": "30494a85",
   "metadata": {},
   "outputs": [],
   "source": [
    "import gdown\n",
    "\n",
    "craft_file_id = '1Jk4eGD7crsqCCg9C9VjCLkMN3ze8kutZ'\n",
    "nerd_rain_file_id = '1c3lLvRQACii_-9hJLA_J4mgZePWNXWLR'\n",
    "\n",
    "craft_model_path = os.path.join(craft_model_dir, 'craft_mlt_25k.pth')\n",
    "nerd_rain_model_path = os.path.join(nerd_rain_model_dir, 'model_large_SPA.pth')\n",
    "\n",
    "gdown.download(f'https://drive.google.com/uc?id={craft_file_id}', craft_model_path, quiet=False)\n",
    "gdown.download(f'https://drive.google.com/uc?id={nerd_rain_file_id}', nerd_rain_model_path, quiet=False)"
   ]
  },
  {
   "cell_type": "code",
   "execution_count": null,
   "id": "de142562",
   "metadata": {},
   "outputs": [],
   "source": [
    "%cd src\n",
    "!python pipeline.py"
   ]
  }
 ],
 "metadata": {
  "kernelspec": {
   "display_name": "Python 3",
   "language": "python",
   "name": "python3"
  },
  "language_info": {
   "codemirror_mode": {
    "name": "ipython",
    "version": 3
   },
   "file_extension": ".py",
   "mimetype": "text/x-python",
   "name": "python",
   "nbconvert_exporter": "python",
   "pygments_lexer": "ipython3",
   "version": "3.11.4"
  }
 },
 "nbformat": 4,
 "nbformat_minor": 5
}
